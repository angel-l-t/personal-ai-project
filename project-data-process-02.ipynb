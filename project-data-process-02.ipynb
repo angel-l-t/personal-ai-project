{
 "cells": [
  {
   "cell_type": "markdown",
   "id": "dda532db-ca51-422c-94c3-084bfc3f06ca",
   "metadata": {},
   "source": [
    "# RAG Project 2n Phase - General Handbook / Changing Chunck Structure"
   ]
  },
  {
   "cell_type": "markdown",
   "id": "afbb4d59",
   "metadata": {},
   "source": [
    "## Parsing HTML\n",
    "\n",
    "I found that links for all pages in the General Handbook are found in the source code of the main page. I used BeautifulSoup to parse all links in the main page of the General Handbook page. I saved them into a list. Then, I checked which links I wouldn't need, and cut them out of the list."
   ]
  },
  {
   "cell_type": "code",
   "execution_count": 1,
   "id": "698fc558",
   "metadata": {},
   "outputs": [
    {
     "name": "stdout",
     "output_type": "stream",
     "text": [
      "1015\n",
      "39\n",
      "https://www.churchofjesuschrist.org/study/manual/general-handbook/0-introductory-overview?lang=eng\n",
      "https://www.churchofjesuschrist.org/study/manual/general-handbook/1-work-of-salvation-and-exaltation?lang=eng\n",
      "https://www.churchofjesuschrist.org/study/manual/general-handbook/2-supporting-individuals-and-families?lang=eng\n",
      "https://www.churchofjesuschrist.org/study/manual/general-handbook/3-priesthood-principles?lang=eng\n",
      "https://www.churchofjesuschrist.org/study/manual/general-handbook/4-leadership-in-the-church-of-jesus-christ?lang=eng\n",
      "https://www.churchofjesuschrist.org/study/manual/general-handbook/5-general-and-area-leadership?lang=eng\n",
      "https://www.churchofjesuschrist.org/study/manual/general-handbook/6-stake-leadership?lang=eng\n",
      "https://www.churchofjesuschrist.org/study/manual/general-handbook/7?lang=eng\n",
      "https://www.churchofjesuschrist.org/study/manual/general-handbook/8-elders-quorum?lang=eng\n",
      "https://www.churchofjesuschrist.org/study/manual/general-handbook/9-relief-society?lang=eng\n",
      "https://www.churchofjesuschrist.org/study/manual/general-handbook/10-aaronic-priesthood?lang=eng\n",
      "https://www.churchofjesuschrist.org/study/manual/general-handbook/11-young-women?lang=eng\n",
      "https://www.churchofjesuschrist.org/study/manual/general-handbook/12-primary?lang=eng\n",
      "https://www.churchofjesuschrist.org/study/manual/general-handbook/13-sunday-school?lang=eng\n",
      "https://www.churchofjesuschrist.org/study/manual/general-handbook/14-single-members?lang=eng\n",
      "https://www.churchofjesuschrist.org/study/manual/general-handbook/15-seminaries-and-institutes?lang=eng\n",
      "https://www.churchofjesuschrist.org/study/manual/general-handbook/16-living-the-gospel?lang=eng\n",
      "https://www.churchofjesuschrist.org/study/manual/general-handbook/17-teaching-the-gospel?lang=eng\n",
      "https://www.churchofjesuschrist.org/study/manual/general-handbook/18-priesthood-ordinances-and-blessings?lang=eng\n",
      "https://www.churchofjesuschrist.org/study/manual/general-handbook/19-music?lang=eng\n",
      "https://www.churchofjesuschrist.org/study/manual/general-handbook/20-activities?lang=eng\n",
      "https://www.churchofjesuschrist.org/study/manual/general-handbook/21-ministering?lang=eng\n",
      "https://www.churchofjesuschrist.org/study/manual/general-handbook/22-providing-for-temporal-needs?lang=eng\n",
      "https://www.churchofjesuschrist.org/study/manual/general-handbook/23?lang=eng\n",
      "https://www.churchofjesuschrist.org/study/manual/general-handbook/24?lang=eng\n",
      "https://www.churchofjesuschrist.org/study/manual/general-handbook/25-temple-and-family-history-work?lang=eng\n",
      "https://www.churchofjesuschrist.org/study/manual/general-handbook/26-temple-recommends?lang=eng\n",
      "https://www.churchofjesuschrist.org/study/manual/general-handbook/27-temple-ordinances-for-the-living?lang=eng\n",
      "https://www.churchofjesuschrist.org/study/manual/general-handbook/28?lang=eng\n",
      "https://www.churchofjesuschrist.org/study/manual/general-handbook/29-meetings-in-the-church?lang=eng\n",
      "https://www.churchofjesuschrist.org/study/manual/general-handbook/30-callings-in-the-church?lang=eng\n",
      "https://www.churchofjesuschrist.org/study/manual/general-handbook/31?lang=eng\n",
      "https://www.churchofjesuschrist.org/study/manual/general-handbook/32-repentance-and-membership-councils?lang=eng\n",
      "https://www.churchofjesuschrist.org/study/manual/general-handbook/33-records-and-reports?lang=eng\n",
      "https://www.churchofjesuschrist.org/study/manual/general-handbook/34-finances-and-audits?lang=eng\n",
      "https://www.churchofjesuschrist.org/study/manual/general-handbook/35?lang=eng\n",
      "https://www.churchofjesuschrist.org/study/manual/general-handbook/36-creating-changing-and-naming-new-units?lang=eng\n",
      "https://www.churchofjesuschrist.org/study/manual/general-handbook/37-specialized-stakes-wards-and-branches?lang=eng\n",
      "https://www.churchofjesuschrist.org/study/manual/general-handbook/38-church-policies-and-guidelines?lang=eng\n"
     ]
    }
   ],
   "source": [
    "from bs4 import BeautifulSoup\n",
    "\n",
    "with open(\"documents/study_manual_general-handbook.html\", \"r\") as f:\n",
    "    soup = BeautifulSoup(f, \"html.parser\")\n",
    "    links = [a['href'] for a in soup.find_all('a', class_=\"html-external-link\", href=True)]\n",
    "\n",
    "print(len(links))\n",
    "\n",
    "#for link in links[8:-1]:\n",
    "#    print(link)    \n",
    "\n",
    "links = links[8:-1]\n",
    "\n",
    "# Found that many links where only references to the same pages, so I just filtered them and kept only one link for each page (39 links total for each page in the General Handbook). \n",
    "chapter_links = []\n",
    "\n",
    "for link in links:\n",
    "\n",
    "    try:\n",
    "        link_i = link.index(\"#\")\n",
    "\n",
    "        if link[:link_i] in chapter_links:\n",
    "            continue\n",
    "        chapter_links.append(link[:link_i])\n",
    "    except:\n",
    "        if link in chapter_links:\n",
    "            continue\n",
    "        chapter_links.append(link)\n",
    "\n",
    "print(len(chapter_links))\n",
    "for url in chapter_links:\n",
    "    print(url)"
   ]
  },
  {
   "cell_type": "markdown",
   "id": "8033a67b",
   "metadata": {},
   "source": [
    "I used Selenium to use the browser and wait for the pages to load before getting their content. Then, I saved all pages in a json document for further processing."
   ]
  },
  {
   "cell_type": "code",
   "execution_count": 2,
   "id": "b3b7e25a",
   "metadata": {},
   "outputs": [],
   "source": [
    "import time\n",
    "import json\n",
    "from selenium import webdriver\n",
    "from selenium.webdriver.common.by import By\n",
    "from selenium.webdriver.support.ui import WebDriverWait\n",
    "from selenium.webdriver.support import expected_conditions as EC\n",
    "\n",
    "driver = webdriver.Chrome()  # Replace with desired browser\n",
    "\n",
    "\n",
    "with open('general-handbook-pages.json', 'w', encoding='utf-8') as f:\n",
    "    \n",
    "    manual_dict = {}\n",
    "\n",
    "    for url in chapter_links:\n",
    "        driver.get(url)\n",
    "\n",
    "        # Wait for a specific element to be present (customizable)\n",
    "        wait = WebDriverWait(driver, 10)  # 10 second timeout\n",
    "        wait.until(EC.presence_of_element_located((By.ID, \"page\")))\n",
    "\n",
    "        time.sleep(3)\n",
    "\n",
    "        content = driver.page_source\n",
    "        manual_dict[f\"{url}\"] = str(content)\n",
    "\n",
    "    json.dump(manual_dict, f, ensure_ascii=False, indent=4)\n",
    "\n",
    "driver.quit()\n"
   ]
  },
  {
   "cell_type": "markdown",
   "id": "81f3f60e",
   "metadata": {},
   "source": [
    "## Preparing Chuncks with BeautifulSoup\n",
    "I divided the content using their subheadings and regex to get smaller portions of text."
   ]
  },
  {
   "cell_type": "code",
   "execution_count": 30,
   "id": "935bf1b6",
   "metadata": {},
   "outputs": [],
   "source": [
    "import json\n",
    "from bs4 import BeautifulSoup\n",
    "import re\n",
    "\n",
    "main_content = {}\n",
    "\n",
    "# I started by getting all chapter titles and main content from each page.\n",
    "with open('processed-docs/general-handbook-pages.json', 'r', encoding='utf-8') as f:\n",
    "\n",
    "    gen_hand_dict = json.loads(f.read())\n",
    "    \n",
    "    for key, value in gen_hand_dict.items():\n",
    "        soup = BeautifulSoup(value, \"html.parser\")\n",
    "        \n",
    "        main_content[key] = {\"chapter\": soup.find(\"h1\", attrs={'id':'title1'}).get_text(), \"body\": soup.find(\"div\", class_=\"body-block\")}"
   ]
  },
  {
   "cell_type": "markdown",
   "id": "fcfd171a",
   "metadata": {},
   "source": [
    "Now, I will try to see if I can keep tables and maybe lists with their respective tags."
   ]
  },
  {
   "cell_type": "code",
   "execution_count": 42,
   "id": "693537d8",
   "metadata": {},
   "outputs": [],
   "source": [
    "def extract_content_with_html(element):\n",
    "    # Keep <ul>, <ol>, and <table> tags as HTML\n",
    "    allowed_tags = ['ul', 'ol', 'li', 'table', 'thead', 'tbody', 'tr', 'th', 'td']\n",
    "    \n",
    "    # Replace \\xa0 (non-breaking space) with a regular space in the text content\n",
    "    return ''.join(str(child).replace('\\xa0', ' ') if child.name in allowed_tags else child.get_text().replace('\\xa0', ' ') for child in element.children)\n",
    "\n",
    "\n",
    "def parse_section(element, chapter_title, chapter_url):\n",
    "    sections = []\n",
    "    \n",
    "    # Handle both section and figure tags\n",
    "    for section in element.find_all(['section', 'figure'], recursive=False):\n",
    "        header = section.find('header')\n",
    "        if header:\n",
    "            # Safely extract the section number and title\n",
    "            section_number = header.find_all('p')[0].get_text(strip=True) if header.find_all('p') else 'No section number'\n",
    "            \n",
    "            if section.name == 'figure':\n",
    "                title = header.find_all('p')[1].get_text(strip=True) if len(header.find_all('p')) > 1 else 'No title'\n",
    "            else:\n",
    "                title_tag = header.find('h2') or header.find('h3') or header.find('h4') or header.find('h5') or header.find('h6')\n",
    "                title = title_tag.get_text(strip=True) if title_tag else 'No title'\n",
    "            \n",
    "            # Collect all direct children that are not sections or headers\n",
    "            content = ''.join([extract_content_with_html(child) for child in section.find_all(recursive=False) if child.name not in ['header', 'section', 'figure']])\n",
    "            \n",
    "            # Append the section to the list\n",
    "            sections.append({\n",
    "                'chapter': chapter_title,\n",
    "                'chapter_url': chapter_url,\n",
    "                'section': section_number,\n",
    "                'title': title.replace('\\xa0', ' '),\n",
    "                'content': content.strip()\n",
    "            })\n",
    "        \n",
    "        # Recursively process nested sections or figures\n",
    "        sections.extend(parse_section(section, chapter_title, chapter_url))\n",
    "    \n",
    "    return sections"
   ]
  },
  {
   "cell_type": "code",
   "execution_count": 43,
   "id": "c24729cd",
   "metadata": {},
   "outputs": [
    {
     "name": "stdout",
     "output_type": "stream",
     "text": [
      "[{'chapter': '0. Introductory Overview', 'chapter_url': 'https://www.churchofjesuschrist.org/study/manual/general-handbook/0-introductory-overview?lang=eng', 'section': '0.0', 'title': 'Introduction', 'content': 'The Lord taught, “Let every man learn his duty, and to act in the office in which he is appointed, in all diligence” (Doctrine and Covenants 107:99). As a leader in The Church of Jesus Christ of Latter-day Saints, you should seek personal revelation to help you learn and fulfill the duties of your calling.Studying the scriptures and the teachings of latter-day prophets will help you understand and fulfill your duties. As you study the words of God, you will be more receptive to the influence of the Spirit (see Doctrine and Covenants 84:85).You also learn your duties by studying the instructions in this handbook. These instructions can invite revelation if they are used to provide an understanding of principles, policies, and procedures to apply while seeking the guidance of the Spirit.'}, {'chapter': '0. Introductory Overview', 'chapter_url': 'https://www.churchofjesuschrist.org/study/manual/general-handbook/0-introductory-overview?lang=eng', 'section': '0.1', 'title': 'This Handbook', 'content': 'General Handbook: Serving in The Church of Jesus Christ of Latter-day Saints provides guidance for general and local Church leaders. It is divided into sections:\\n<li>\\n<p><i>Doctrinal Foundation:</i> These chapters present doctrine and principles fundamental to serving in the Church. They explain:</p>\\n<ul>\\n<li>\\n<p>God’s plan of happiness, His work of salvation and exaltation, and the purpose of the Church.</p>\\n</li>\\n<li>\\n<p>The role of the family in God’s plan, His work of salvation and exaltation in the home, and the relationship between the home and the Church.</p>\\n</li>\\n<li>\\n<p>Priesthood principles.</p>\\n</li>\\n<li>\\n<p>Principles for leading in the Savior’s Church.</p>\\n</li>\\n</ul>\\n</li>\\n<li>\\n<p><i>Church Organization:</i> These chapters provide instructions for stake presidencies and bishoprics, priesthood quorum leaders, stake and ward organization leaders, and others who serve in the Church.</p>\\n</li>\\n<li>\\n<p><i>God’s Work of Salvation and Exaltation:</i> These chapters instruct on the core work of the Church:</p>\\n<ul>\\n<li>\\n<p>Living the gospel of Jesus Christ</p>\\n</li>\\n<li>\\n<p>Caring for those in need</p>\\n</li>\\n<li>\\n<p>Inviting all to receive the gospel</p>\\n</li>\\n<li>\\n<p>Uniting families for eternity</p>\\n</li>\\n</ul>\\n</li>\\n<li>\\n<p><i>Church Administration:</i> These chapters present additional guidelines for administering the Church. Subjects include meetings, callings, records, finances, and policies.</p>\\n</li>\\nThe headings and subheadings in this handbook are numbered to make topics easy to find and reference. For example, instruction about who may be sealed in a temple is provided in 27.3.1. The number 27 refers to the chapter, the number 3 refers to a section in that chapter, and the number 1 refers to a subsection.'}, {'chapter': '0. Introductory Overview', 'chapter_url': 'https://www.churchofjesuschrist.org/study/manual/general-handbook/0-introductory-overview?lang=eng', 'section': '0.2', 'title': 'Adaptation and Optional Resources', 'content': 'Not all stakes and wards have the same needs. This handbook contains guidelines for adaptation as well as optional resources:\\n<li>\\n<p><i>Guidelines for adaptation</i> (<span><span><img/><span><svg> <path> </path></svg></span></span></span>) provide direction on how to adapt Church organizations and programs to units with differing needs and resources.</p>\\n</li>\\n<li>\\n<p><i>Optional resources</i> (<span><span><img/><span><svg> <path> </path></svg></span></span></span>) contain additional information and direction that may be helpful to stake and ward leaders.</p>\\n</li>\\nLeaders seek inspiration about which guidelines and optional resources to use to meet members’ needs.'}, {'chapter': '0. Introductory Overview', 'chapter_url': 'https://www.churchofjesuschrist.org/study/manual/general-handbook/0-introductory-overview?lang=eng', 'section': '0.3', 'title': 'Updates', 'content': 'This handbook will be updated periodically. A list of recent changes is available in the “Summary of Recent Updates.”'}, {'chapter': '0. Introductory Overview', 'chapter_url': 'https://www.churchofjesuschrist.org/study/manual/general-handbook/0-introductory-overview?lang=eng', 'section': '0.4', 'title': 'Questions about Instructions', 'content': 'When questions arise that are not addressed in the scriptures, the words of the living prophets, or this handbook, Church members should rely on their covenants with God, the counsel of their local leaders, and the inspiration of the Spirit for guidance.If leaders have questions about information in this handbook or about issues it does not address, they counsel with their immediate presiding authority.'}, {'chapter': '0. Introductory Overview', 'chapter_url': 'https://www.churchofjesuschrist.org/study/manual/general-handbook/0-introductory-overview?lang=eng', 'section': '0.5', 'title': 'Terminology', 'content': 'Except where indicated otherwise:\\n<li>\\n<p>The terms <i>bishop</i> and <i>bishopric</i> in this handbook refer also to branch presidents and branch presidencies. The terms <i>stake president</i> and <i>stake presidency</i> refer also to district presidents and district presidencies. For a summary of how the authority of district presidents differs from that of stake presidents, see <a>6.3</a>.</p>\\n</li>\\n<li>\\n<p>References to wards and stakes generally also apply to branches, districts, and missions.</p>\\n</li>\\n<li>\\n<p>References to Sunday apply to whichever day the Sabbath is observed locally.</p>\\n</li>\\n<li>\\n<p>The term <i>unit</i> refers to wards and branches.</p>\\n</li>\\n<li>\\n<p>References to parents generally also apply to legal guardians.</p>\\n</li>\\nThe callings of bishop and branch president are not equivalent in authority and responsibility, nor are the callings of stake president and district president. The bishop is an office in the priesthood, and ordination is authorized only by the First Presidency. Stake presidents are called by General Authorities and Area Seventies.'}, {'chapter': '0. Introductory Overview', 'chapter_url': 'https://www.churchofjesuschrist.org/study/manual/general-handbook/0-introductory-overview?lang=eng', 'section': '0.6', 'title': 'Contacting Church Headquarters or the Area Office', 'content': 'Some chapters in this handbook include instructions to contact Church headquarters or the area office. The instruction to contact Church headquarters applies to those in the United States and Canada. The instruction to contact the area office applies to those outside the United States and Canada.'}]\n"
     ]
    }
   ],
   "source": [
    "# i = 0\n",
    "for key, value in main_content.items():\n",
    "    # Add a number to the chapter title, only once in Jupyter\n",
    "    # value[\"chapter\"] = f\"{i}. {value['chapter']}\"\n",
    "    \n",
    "    for element in value[\"body\"].find_all():\n",
    "        element.attrs = {}\n",
    "\n",
    "    section_list = []\n",
    "    \n",
    "    section_list = parse_section(value[\"body\"], value[\"chapter\"], chapter_url=key)\n",
    "    print(section_list)        \n",
    "    break"
   ]
  },
  {
   "cell_type": "code",
   "execution_count": 44,
   "id": "c8fc2db8",
   "metadata": {},
   "outputs": [
    {
     "name": "stdout",
     "output_type": "stream",
     "text": [
      "1380\n",
      "{'chapter': '38. Church Policies and Guidelines', 'chapter_url': 'https://www.churchofjesuschrist.org/study/manual/general-handbook/38-church-policies-and-guidelines?lang=eng', 'section': '38.9.10', 'title': 'Other Information', 'content': 'For information about membership records of service members, see 33.6.9.For information about patriarchal blessings for service members, see 38.2.10.3.For information about ordaining service members in isolated locations, see 38.2.9.6.For information about issuing temple recommends in isolated locations, see 26.3.2.If Church leaders have questions about military relations, they may contact:Military Relations and Chaplain Services Division50 East North Temple Street, Room 2411Salt Lake City, UT 84150-0024Telephone: 1-801-240-2286Email: pst-military@ChurchofJesusChrist.org'}\n"
     ]
    }
   ],
   "source": [
    "final_chunks = []\n",
    "\n",
    "for key, value in main_content.items():\n",
    "        \n",
    "    for element in value[\"body\"].find_all():\n",
    "        element.attrs = {}    \n",
    "    \n",
    "    section_list = parse_section(value[\"body\"], value[\"chapter\"], chapter_url=key)\n",
    "\n",
    "    final_chunks.extend(section_list)"
   ]
  },
  {
   "cell_type": "code",
   "execution_count": 52,
   "id": "930e41f8",
   "metadata": {},
   "outputs": [
    {
     "name": "stdout",
     "output_type": "stream",
     "text": [
      "1380\n",
      "Content length:  11656\n",
      "{'chapter': '30. Callings in the Church', 'chapter_url': 'https://www.churchofjesuschrist.org/study/manual/general-handbook/30-callings-in-the-church?lang=eng', 'section': '30.8.1', 'title': 'Ward Callings', 'content': '<thead><tr><th>\\n<p>Calling</p>\\n</th><th>\\n<p>Recommended by</p>\\n</th><th>\\n<p>Approved by</p>\\n</th><th>\\n<p>Sustained by<a><sup></sup></a></p>\\n</th><th>\\n<p>Called and set apart by</p>\\n</th></tr></thead><tbody><tr><th><div>\\n<p>Calling</p>\\n</div>\\n<p><a>Bishop</a><a><sup></sup></a></p>\\n</th><td><div>\\n<p>Recommended by</p>\\n</div>\\n<p>Stake presidency, using <a>LCR</a></p>\\n</td><td><div>\\n<p>Approved by</p>\\n</div>\\n<p>First Presidency and Quorum of the Twelve</p>\\n</td><td><div>\\n<p>Sustained by<a><sup></sup></a></p>\\n</div>\\n<p>Ward members</p>\\n</td><td><div>\\n<p>Called and set apart by</p>\\n</div>\\n<p>Stake president after receiving approval from the First Presidency (see <a>30.7</a>)</p>\\n</td></tr><tr><th><div>\\n<p>Calling</p>\\n</div>\\n<p><a>Counselors in the bishopric</a><a><sup></sup></a></p>\\n</th><td><div>\\n<p>Recommended by</p>\\n</div>\\n<p>Bishop</p>\\n</td><td><div>\\n<p>Approved by</p>\\n</div>\\n<p>Stake presidency and high council</p>\\n</td><td><div>\\n<p>Sustained by<a><sup></sup></a></p>\\n</div>\\n<p>Ward members</p>\\n</td><td><div>\\n<p>Called and set apart by</p>\\n</div>\\n<p>Stake president or an assigned counselor</p>\\n</td></tr><tr><th><div>\\n<p>Calling</p>\\n</div>\\n<p><a>Ward clerk (and assistant ward clerks if needed)</a></p>\\n</th><td><div>\\n<p>Recommended by</p>\\n</div>\\n<p>Bishopric</p>\\n</td><td><div>\\n<p>Approved by</p>\\n</div>\\n<p>Stake presidency and high council</p>\\n</td><td><div>\\n<p>Sustained by<a><sup></sup></a></p>\\n</div>\\n<p>Ward members</p>\\n</td><td><div>\\n<p>Called and set apart by</p>\\n</div>\\n<p>Stake president or an assigned counselor or high councilor</p>\\n</td></tr><tr><th><div>\\n<p>Calling</p>\\n</div>\\n<p><a>Ward executive secretary (and assistant ward executive secretaries if needed)</a></p>\\n</th><td><div>\\n<p>Recommended by</p>\\n</div>\\n<p>Bishopric</p>\\n</td><td><div>\\n<p>Approved by</p>\\n</div>\\n<p>Stake presidency and high council</p>\\n</td><td><div>\\n<p>Sustained by<a><sup></sup></a></p>\\n</div>\\n<p>Ward members</p>\\n</td><td><div>\\n<p>Called and set apart by</p>\\n</div>\\n<p>Stake president or an assigned counselor or high councilor</p>\\n</td></tr><tr><th><div>\\n<p>Calling</p>\\n</div>\\n<p><a>Elders quorum president</a></p>\\n</th><td><div>\\n<p>Recommended by</p>\\n</div>\\n<p>Stake presidency (in consultation with the bishop)</p>\\n</td><td><div>\\n<p>Approved by</p>\\n</div>\\n<p>Stake presidency and high council</p>\\n</td><td><div>\\n<p>Sustained by<a><sup></sup></a></p>\\n</div>\\n<p>Ward members</p>\\n</td><td><div>\\n<p>Called and set apart by</p>\\n</div>\\n<p>Stake president</p>\\n</td></tr><tr><th><div>\\n<p>Calling</p>\\n</div>\\n<p><a>Counselors in the elders quorum presidency</a></p>\\n</th><td><div>\\n<p>Recommended by</p>\\n</div>\\n<p>Quorum president (in consultation with the bishop)</p>\\n</td><td><div>\\n<p>Approved by</p>\\n</div>\\n<p>Stake presidency and high council</p>\\n</td><td><div>\\n<p>Sustained by<a><sup></sup></a></p>\\n</div>\\n<p>Ward members</p>\\n</td><td><div>\\n<p>Called and set apart by</p>\\n</div>\\n<p>Stake president or an assigned counselor or high councilor</p>\\n</td></tr><tr><th><div>\\n<p>Calling</p>\\n</div>\\n<p>Other elders quorum callings</p>\\n</th><td><div>\\n<p>Recommended by</p>\\n</div>\\n<p>Quorum presidency</p>\\n</td><td><div>\\n<p>Approved by</p>\\n</div>\\n<p>Bishopric</p>\\n</td><td><div>\\n<p>Sustained by<a><sup></sup></a></p>\\n</div>\\n<p>Quorum members (presented in a quorum meeting by the quorum president or an assigned counselor)</p>\\n</td><td><div>\\n<p>Called and set apart by</p>\\n</div>\\n<p>Quorum president or an assigned counselor</p>\\n</td></tr><tr><th><div>\\n<p>Calling</p>\\n</div>\\n<p>Ward organization presidents (Relief Society, Young Women, Primary, and Sunday School)</p>\\n</th><td><div>\\n<p>Recommended by</p>\\n</div>\\n<p>Bishopric</p>\\n</td><td><div>\\n<p>Approved by</p>\\n</div>\\n<p>Bishopric</p>\\n</td><td><div>\\n<p>Sustained by<a><sup></sup></a></p>\\n</div>\\n<p>Ward members</p>\\n</td><td><div>\\n<p>Called and set apart by</p>\\n</div>\\n<p>Bishop</p>\\n</td></tr><tr><th><div>\\n<p>Calling</p>\\n</div>\\n<p>Counselors in ward organization presidencies</p>\\n</th><td><div>\\n<p>Recommended by</p>\\n</div>\\n<p>Organization president</p>\\n</td><td><div>\\n<p>Approved by</p>\\n</div>\\n<p>Bishopric</p>\\n</td><td><div>\\n<p>Sustained by<a><sup></sup></a></p>\\n</div>\\n<p>Ward members</p>\\n</td><td><div>\\n<p>Called and set apart by</p>\\n</div>\\n<p>Bishop or an assigned counselor</p>\\n</td></tr><tr><th><div>\\n<p>Calling</p>\\n</div>\\n<p>Other ward Relief Society, Young Women, Primary, and Sunday School callings</p>\\n</th><td><div>\\n<p>Recommended by</p>\\n</div>\\n<p>Organization presidency</p>\\n</td><td><div>\\n<p>Approved by</p>\\n</div>\\n<p>Bishopric</p>\\n</td><td><div>\\n<p>Sustained by<a><sup></sup></a></p>\\n</div>\\n<p>Ward members</p>\\n</td><td><div>\\n<p>Called and set apart by</p>\\n</div>\\n<p>Bishop or an assigned counselor</p>\\n</td></tr><tr><th><div>\\n<p>Calling</p>\\n</div>\\n<p><a>Ward mission leader (a member of the elders quorum presidency may fill this role; if so, he does not need to be called, sustained, or set apart separately)</a></p>\\n</th><td><div>\\n<p>Recommended by</p>\\n</div>\\n<p>Bishopric (in consultation with the elders quorum and Relief Society presidents)</p>\\n</td><td><div>\\n<p>Approved by</p>\\n</div>\\n<p>Bishopric</p>\\n</td><td><div>\\n<p>Sustained by<a><sup></sup></a></p>\\n</div>\\n<p>Ward members</p>\\n</td><td><div>\\n<p>Called and set apart by</p>\\n</div>\\n<p>Bishop or an assigned counselor</p>\\n</td></tr><tr><th><div>\\n<p>Calling</p>\\n</div>\\n<p><a>Ward missionaries</a></p>\\n</th><td><div>\\n<p>Recommended by</p>\\n</div>\\n<p>Bishopric or elders quorum and Relief Society presidents</p>\\n</td><td><div>\\n<p>Approved by</p>\\n</div>\\n<p>Bishopric</p>\\n</td><td><div>\\n<p>Sustained by<a><sup></sup></a></p>\\n</div>\\n<p>Ward members</p>\\n</td><td><div>\\n<p>Called and set apart by</p>\\n</div>\\n<p>Bishop or an assigned counselor</p>\\n</td></tr><tr><th><div>\\n<p>Calling</p>\\n</div>\\n<p><a>Ward temple and family history leader (a member of the elders quorum presidency may fill this role; if so, he does not need to be called, sustained, or set apart separately)</a></p>\\n</th><td><div>\\n<p>Recommended by</p>\\n</div>\\n<p>Bishopric (in consultation with the elders quorum and Relief Society presidents)</p>\\n</td><td><div>\\n<p>Approved by</p>\\n</div>\\n<p>Bishopric</p>\\n</td><td><div>\\n<p>Sustained by<a><sup></sup></a></p>\\n</div>\\n<p>Ward members</p>\\n</td><td><div>\\n<p>Called and set apart by</p>\\n</div>\\n<p>Bishop or an assigned counselor</p>\\n</td></tr><tr><th><div>\\n<p>Calling</p>\\n</div>\\n<p><a>Ward temple and family history consultants</a></p>\\n</th><td><div>\\n<p>Recommended by</p>\\n</div>\\n<p>Bishopric or elders quorum and Relief Society presidents</p>\\n</td><td><div>\\n<p>Approved by</p>\\n</div>\\n<p>Bishopric</p>\\n</td><td><div>\\n<p>Sustained by<a><sup></sup></a></p>\\n</div>\\n<p>Ward members</p>\\n</td><td><div>\\n<p>Called and set apart by</p>\\n</div>\\n<p>Bishop or an assigned counselor</p>\\n</td></tr><tr><th><div>\\n<p>Calling</p>\\n</div>\\n<p><a>Assistants to the priests quorum president</a></p>\\n</th><td><div>\\n<p>Recommended by</p>\\n</div>\\n<p>Bishop (as the priests quorum president)</p>\\n</td><td><div>\\n<p>Approved by</p>\\n</div>\\n<p>Bishopric</p>\\n</td><td><div>\\n<p>Sustained by<a><sup></sup></a></p>\\n</div>\\n<p>Quorum members (presented in a quorum meeting by the bishop or an assigned counselor)</p>\\n</td><td><div>\\n<p>Called and set apart by</p>\\n</div>\\n<p>Bishop</p>\\n</td></tr><tr><th><div>\\n<p>Calling</p>\\n</div>\\n<p><a>Teachers and deacons quorum presidents</a></p>\\n</th><td><div>\\n<p>Recommended by</p>\\n</div>\\n<p>Bishopric</p>\\n</td><td><div>\\n<p>Approved by</p>\\n</div>\\n<p>Bishopric</p>\\n</td><td><div>\\n<p>Sustained by<a><sup></sup></a></p>\\n</div>\\n<p>Quorum members (presented in a quorum meeting by the bishop or an assigned counselor)</p>\\n</td><td><div>\\n<p>Called and set apart by</p>\\n</div>\\n<p>Called by the bishop or an assigned counselor; set apart by the bishop</p>\\n</td></tr><tr><th><div>\\n<p>Calling</p>\\n</div>\\n<p><a>Counselors in the teachers and deacons quorum presidencies and quorum secretaries</a></p>\\n</th><td><div>\\n<p>Recommended by</p>\\n</div>\\n<p>Quorum president</p>\\n</td><td><div>\\n<p>Approved by</p>\\n</div>\\n<p>Bishopric</p>\\n</td><td><div>\\n<p>Sustained by<a><sup></sup></a></p>\\n</div>\\n<p>Quorum members (presented in a quorum meeting by the bishop or an assigned counselor)</p>\\n</td><td><div>\\n<p>Called and set apart by</p>\\n</div>\\n<p>Bishop or an assigned counselor</p>\\n</td></tr><tr><th><div>\\n<p>Calling</p>\\n</div>\\n<p><a>Young Women class presidents</a></p>\\n</th><td><div>\\n<p>Recommended by</p>\\n</div>\\n<p>Bishopric (in consultation with the Young Women presidency)</p>\\n</td><td><div>\\n<p>Approved by</p>\\n</div>\\n<p>Bishopric</p>\\n</td><td><div>\\n<p>Sustained by<a><sup></sup></a></p>\\n</div>\\n<p>Class members (presented in a Young Women meeting by the bishop or an assigned counselor)</p>\\n</td><td><div>\\n<p>Called and set apart by</p>\\n</div>\\n<p>Bishop or an assigned counselor</p>\\n</td></tr><tr><th><div>\\n<p>Calling</p>\\n</div>\\n<p><a>Counselors in Young Women class presidencies and class secretaries</a></p>\\n</th><td><div>\\n<p>Recommended by</p>\\n</div>\\n<p>Class president</p>\\n</td><td><div>\\n<p>Approved by</p>\\n</div>\\n<p>Bishopric</p>\\n</td><td><div>\\n<p>Sustained by<a><sup></sup></a></p>\\n</div>\\n<p>Class members (presented in a Young Women meeting by the bishop or an assigned counselor)</p>\\n</td><td><div>\\n<p>Called and set apart by</p>\\n</div>\\n<p>Bishop or an assigned counselor</p>\\n</td></tr><tr><th><div>\\n<p>Calling</p>\\n</div>\\n<p><a>Ward welfare and self-reliance specialists if needed</a></p>\\n</th><td><div>\\n<p>Recommended by</p>\\n</div>\\n<p>Bishopric</p>\\n</td><td><div>\\n<p>Approved by</p>\\n</div>\\n<p>Bishopric</p>\\n</td><td><div>\\n<p>Sustained by<a><sup></sup></a></p>\\n</div>\\n<p>Ward members</p>\\n</td><td><div>\\n<p>Called and set apart by</p>\\n</div>\\n<p>Bishop or an assigned counselor</p>\\n</td></tr><tr><th><div>\\n<p>Calling</p>\\n</div>\\n<p><a>Ward resource center specialist if needed</a></p>\\n</th><td><div>\\n<p>Recommended by</p>\\n</div>\\n<p>Sunday School president</p>\\n</td><td><div>\\n<p>Approved by</p>\\n</div>\\n<p>Bishopric</p>\\n</td><td><div>\\n<p>Sustained by<a><sup></sup></a></p>\\n</div>\\n<p>Ward members</p>\\n</td><td><div>\\n<p>Called and set apart by</p>\\n</div>\\n<p>Bishop or an assigned counselor</p>\\n</td></tr><tr><th><div>\\n<p>Calling</p>\\n</div>\\n<p><a>Ward music coordinator</a></p>\\n</th><td><div>\\n<p>Recommended by</p>\\n</div>\\n<p>Bishopric</p>\\n</td><td><div>\\n<p>Approved by</p>\\n</div>\\n<p>Bishopric</p>\\n</td><td><div>\\n<p>Sustained by<a><sup></sup></a></p>\\n</div>\\n<p>Ward members</p>\\n</td><td><div>\\n<p>Called and set apart by</p>\\n</div>\\n<p>Bishop or an assigned counselor</p>\\n</td></tr><tr><th><div>\\n<p>Calling</p>\\n</div>\\n<p>Interpreters if needed</p>\\n</th><td><div>\\n<p>Recommended by</p>\\n</div>\\n<p>Bishopric</p>\\n</td><td><div>\\n<p>Approved by</p>\\n</div>\\n<p>Bishopric</p>\\n</td><td><div>\\n<p>Sustained by<a><sup></sup></a></p>\\n</div>\\n<p>Ward members</p>\\n</td><td><div>\\n<p>Called and set apart by</p>\\n</div>\\n<p>Bishop or an assigned counselor</p>\\n</td></tr><tr><th><div>\\n<p>Calling</p>\\n</div>\\n<p>Other ward callings</p>\\n</th><td><div>\\n<p>Recommended by</p>\\n</div>\\n<p>Bishopric</p>\\n</td><td><div>\\n<p>Approved by</p>\\n</div>\\n<p>Bishopric</p>\\n</td><td><div>\\n<p>Sustained by<a><sup></sup></a></p>\\n</div>\\n<p>Ward members</p>\\n</td><td><div>\\n<p>Called and set apart by</p>\\n</div>\\n<p>Bishop or an assigned counselor</p>\\n</td></tr></tbody>\\n<ol>\\n<li>\\n<p>In rare circumstances, a ward member may need to begin service in a calling before he or she can be sustained. When this happens, a member of the bishopric presents the person for ratifying as soon as reasonable. He adapts the process described in <a>30.3</a>. This includes providing an opportunity for ward members to oppose the action.</p>\\n</li>\\n<li>\\n<p>Active sealers in a temple should not be called to serve in bishoprics. Sealers are called under the direction of the President of the Church.</p>\\n</li>\\n</ol>'}\n"
     ]
    }
   ],
   "source": [
    "print(len(final_chunks))\n",
    "print(\"Content length: \", len(final_chunks[844][\"content\"]))\n",
    "print(final_chunks[844])"
   ]
  },
  {
   "cell_type": "markdown",
   "id": "dfe11f91",
   "metadata": {},
   "source": [
    "## Creating Text Embeddings with Gemini\n",
    "Next, I will use the Gemini API to create text embeddings."
   ]
  },
  {
   "cell_type": "code",
   "execution_count": 45,
   "id": "87c10cc8",
   "metadata": {},
   "outputs": [
    {
     "name": "stderr",
     "output_type": "stream",
     "text": [
      "/home/angelo/ai-internship/personal-ai-project/.venv/lib/python3.10/site-packages/tqdm/auto.py:21: TqdmWarning: IProgress not found. Please update jupyter and ipywidgets. See https://ipywidgets.readthedocs.io/en/stable/user_install.html\n",
      "  from .autonotebook import tqdm as notebook_tqdm\n"
     ]
    }
   ],
   "source": [
    "## Importing and initializing the library\n",
    "import google.generativeai as genai\n",
    "import os\n",
    "\n",
    "google_api_key=os.environ.get(\"GOOGLE_API_KEY\")\n",
    "\n",
    "genai.configure(api_key=google_api_key)\n",
    "\n"
   ]
  },
  {
   "cell_type": "markdown",
   "id": "a3c868ed",
   "metadata": {},
   "source": [
    "I will try to generate embeddings for 100 chuncks first."
   ]
  },
  {
   "cell_type": "code",
   "execution_count": 53,
   "id": "0a3b8cf7",
   "metadata": {},
   "outputs": [],
   "source": [
    "final_chunks_embed = []\n",
    "\n",
    "for i, value in enumerate(final_chunks):\n",
    "    try:\n",
    "        result = genai.embed_content(\n",
    "            model = \"models/embedding-001\",\n",
    "            content = f\"{final_chunks[i]['chapter']}. {final_chunks[i]['title']}. {final_chunks[i]['content']}\",\n",
    "            task_type = \"retrieval_document\",\n",
    "            title = \"Embedding of single string\")\n",
    "        \n",
    "        final_chunks_embed.append({\n",
    "            \"chapter\": final_chunks[i][\"chapter\"],\n",
    "            \"chapter_url\": final_chunks[i][\"chapter_url\"],\n",
    "            \"section\": final_chunks[i][\"section\"],\n",
    "            \"title\": final_chunks[i][\"title\"],\n",
    "            \"content\": final_chunks[i][\"content\"],\n",
    "            \"embedding\": result[\"embedding\"]\n",
    "        })\n",
    "        \n",
    "\n",
    "    except:\n",
    "        result = genai.embed_content(\n",
    "            model = \"models/embedding-001\",\n",
    "            content = f\"{final_chunks[i]['chapter']}. {final_chunks[i]['title']}. {final_chunks[i]['content'][:len(final_chunks[i]['content'])//2]}\",\n",
    "            task_type = \"retrieval_document\",\n",
    "            title = \"Embedding of single string\")\n",
    "        \n",
    "        final_chunks_embed.append({\n",
    "            \"chapter\": final_chunks[i][\"chapter\"],\n",
    "            \"chapter_url\": final_chunks[i][\"chapter_url\"],\n",
    "            \"section\": final_chunks[i][\"section\"],\n",
    "            \"title\": final_chunks[i][\"title\"],\n",
    "            \"content\": final_chunks[i][\"content\"],\n",
    "            \"embedding\": result[\"embedding\"]\n",
    "        })\n"
   ]
  },
  {
   "cell_type": "markdown",
   "id": "dd1827e7",
   "metadata": {},
   "source": [
    "The above process took 3m 36.4s"
   ]
  },
  {
   "cell_type": "markdown",
   "id": "3f03db08",
   "metadata": {},
   "source": [
    "Now, I will just check that data is in te desired format."
   ]
  },
  {
   "cell_type": "code",
   "execution_count": 54,
   "id": "773398e4",
   "metadata": {},
   "outputs": [
    {
     "name": "stdout",
     "output_type": "stream",
     "text": [
      "1380\n",
      "{'chapter': '0. Introductory Overview', 'chapter_url': 'https://www.churchofjesuschrist.org/study/manual/general-handbook/0-introductory-overview?lang=eng', 'section': '0.0', 'title': 'Introduction', 'content': 'The Lord taught, “Let every man learn his duty, and to act in the office in which he is appointed, in all diligence” (Doctrine and Covenants 107:99). As a leader in The Church of Jesus Christ of Latter-day Saints, you should seek personal revelation to help you learn and fulfill the duties of your calling.Studying the scriptures and the teachings of latter-day prophets will help you understand and fulfill your duties. As you study the words of God, you will be more receptive to the influence of the Spirit (see Doctrine and Covenants 84:85).You also learn your duties by studying the instructions in this handbook. These instructions can invite revelation if they are used to provide an understanding of principles, policies, and procedures to apply while seeking the guidance of the Spirit.', 'embedding': [0.0135071045, 0.0141626205, -0.014878948, 0.012871637, 0.041083097, 0.045083806, 0.039739348, -0.02091315, -0.023415117, 0.059074037, -0.0052078306, -0.017317666, 0.013269094, -0.016772, 0.010394254, -0.024385396, 0.032158434, -0.0058454587, -0.028909134, -0.04034812, -0.025546122, 0.02929773, 0.02377813, 0.009200647, 0.049788732, 0.013419611, 0.0039280984, -0.10490538, 0.005924137, 0.044710435, -0.04432672, 0.021230608, -0.07856643, -0.013292971, 0.009472246, -0.053315133, 0.007433497, -0.08087627, -0.012537322, 0.005770703, -0.025573988, -0.024712013, 0.020543179, -0.026855193, 0.050289486, 0.00050720474, -0.022290858, 0.0071607693, 0.030537853, -0.11722407, -0.009367462, -0.0071109836, 0.07617135, -0.011398045, -0.0025045888, -0.016704114, 0.034197688, 4.6778077e-05, -0.014012189, 0.007481583, -0.014106999, -0.024525173, 0.005464822, -0.0042295456, -0.021078382, -0.09873751, -0.04610303, 0.028586103, 0.045204677, 0.0041051176, 0.04019833, -0.037738748, 0.010867694, -0.00045287603, -0.061898056, -0.10087533, 0.023011561, 0.022925135, 0.03226225, 0.026747378, 0.004496046, -0.02838652, -0.04071013, -0.04675924, -0.055608798, 0.027231498, -0.023255242, 0.009230832, -0.013587817, 0.041578546, 0.023012009, -0.039084826, -0.0057506547, -0.05285605, -0.022392038, 0.03718752, -0.03391534, -0.03469645, -0.047213305, -0.021282032, 0.032929774, -0.016375577, -0.015895728, -0.05101568, 0.034774337, 0.0058693863, 0.0035953347, 0.03947065, -0.01323979, 0.04182457, -0.026210219, -0.019440677, -0.06900373, 0.006890556, 0.06599197, -0.03699433, 0.004414891, 0.0689949, 0.03593102, -0.027047796, -0.0043664244, 0.03647884, 0.034277152, 0.014676737, -0.01641418, 0.03463779, 0.03488156, -0.015247459, 0.06734525, 0.08490667, 0.021590954, -0.07068409, 0.022980295, 0.010881032, 0.061345916, 0.0645755, 0.061422512, -0.006591445, 0.017622216, 0.02582382, -0.036152963, 0.011986516, 0.004537701, 0.013857061, -0.0014885954, 0.046358287, -0.039009947, 0.026894271, -0.01390582, -0.0042627333, -0.033907793, -0.0023495115, -0.09042275, -0.014699976, 0.025252031, 0.026539681, -0.026077505, 0.07161628, 0.008011981, 0.016635707, 0.004158508, -0.029316613, 0.010829178, 0.03438311, -0.035627134, -0.00473161, -0.0019652739, -0.06767403, -0.03704518, -0.026167678, 0.014913878, 0.10476383, -0.043272056, -0.049645517, 0.0007378981, -0.056366485, 0.008750504, -0.0041272957, -0.024047928, 0.01895152, -0.032759096, -0.05231314, -0.011381738, 0.023105912, 0.06792888, 0.0027327184, 0.043251403, -0.0368603, -0.012004492, 0.0011087358, -0.02114746, 0.028107587, -0.030719796, -0.0053685484, -0.030352594, 0.08230472, -0.00072208286, -0.02474674, 0.026347632, -0.06393633, 0.039562892, 0.053019542, -0.0004480786, -0.0147537, 0.02357519, -0.033982977, 0.06580652, -0.0025436508, -0.08210982, 0.056984328, -0.03483697, 0.02082147, 0.028480064, 0.008703684, 0.03016477, -0.026438193, -0.02444026, 0.03363748, 0.05007843, -0.026439713, -0.0039548976, -0.0076568476, 0.019663842, 0.029836774, -0.014196768, -0.012864372, 0.03481226, 0.036792275, 0.0045100725, -0.0661642, 0.017473407, 0.06652423, 0.018600643, -0.029407436, 0.02670536, -0.021731677, -0.0063423454, 0.0672422, -0.004129271, 0.025763785, -0.032886833, 0.023828475, -0.0063356957, 0.0226081, -0.06554436, -0.04506905, -0.016884476, 0.033040684, -0.009590819, 0.07817463, 0.003939835, -0.019440785, -0.022832057, 0.03752445, -0.0016953587, -0.002978854, -0.055642404, 0.026663955, -0.010335851, -0.0013726677, 0.001025384, -0.005362876, 0.014257545, 0.01626147, 0.018968387, -0.03257122, 0.007965542, -0.07714769, 0.008883307, 0.012820882, -0.0025418284, -0.048375163, -0.0049042283, 0.037426766, -0.04236512, 0.008850877, -0.019623844, 0.04949666, 0.030488063, -0.038186584, -0.0082141105, 0.00920914, 0.03453843, -0.038404666, -0.02832704, 0.046154898, -0.020282691, -0.0406809, 0.04489435, -0.08000576, -0.01542016, 0.04919413, -0.023248222, -0.01182688, -0.0207867, -0.034386463, -0.015790328, 0.08246701, -0.018834122, -0.024434477, -0.013613932, -0.10514519, -0.021906924, -0.07378784, 0.019183712, 0.027685577, -0.0068904026, -0.0752884, -0.009575809, 0.0111578535, -0.0127734775, 0.01698429, -0.04790213, -0.008725504, 0.01774628, 0.0198896, -0.012235818, 0.041543376, -0.0023448358, 0.05401061, -0.010894669, 0.051679667, 0.01997694, -0.0053154463, -0.01919231, 0.03579828, -0.022512443, 0.011655905, 0.011920325, 0.027033763, 0.003868537, -0.031074924, 0.021375043, 0.028929248, 0.0129435025, 0.059967242, -0.05541463, -0.02484063, -0.041134287, -0.028131224, -0.006366923, 0.038866244, 0.0078991465, -0.002174351, 0.012716458, 0.009698402, 0.007780013, -0.026376788, 0.07484654, -0.014833273, -0.002272585, 0.032270603, -0.05505158, 0.035877276, 0.02230322, -0.02959746, 0.04879545, -0.06532208, 0.009765343, 0.043045275, -0.03957328, 0.030009432, -0.008981107, -0.07293355, 0.058108166, -0.01021437, 0.042680748, 0.057567343, -0.028649308, 0.051706813, 0.043138333, 0.012376741, 0.031639073, -0.05244014, -0.010711585, -0.017640648, -0.016235014, -0.02566971, 0.048309166, 0.0029670082, -0.03171747, -0.0060168146, 0.03269884, 0.044236995, 0.019755337, -0.02442957, 0.03625979, 0.047100432, -0.00397078, 0.047881767, 0.022418434, 0.04434663, 0.07114029, 0.020228669, -0.0010914344, -0.0009177572, 0.02562555, -0.031620026, 0.024136426, -0.021547908, 0.018890636, -0.041778527, -0.06160548, -0.03718539, -0.043398626, -0.013981076, -0.030849338, -0.046749324, 0.018957177, -0.0074821822, 0.014000532, 0.02182942, 0.020339163, -0.09498798, -0.033461966, -0.00733836, 0.03538074, -0.020274678, 0.01075245, 0.036328394, -0.009196749, -0.011902609, -0.01146438, -0.010499305, -0.016465006, -0.024136143, 0.031211939, -0.039029866, -0.013470135, 0.04112959, 0.029836593, -0.035160366, 0.02650295, 0.0062391697, 0.014282448, -0.047718637, -0.009622829, 0.037598487, -0.01203804, -0.004472384, 0.026172077, 0.06178768, 0.030977812, 0.028577184, -0.03542621, -0.046334356, 0.0017583703, -0.06642093, -0.007253162, -0.08819908, 0.010938127, -0.06204331, -0.039886627, -0.06501371, -0.015534305, -0.026168438, -0.0045697754, 0.03738511, 0.015775975, 0.014397019, -0.018539453, -0.05760338, -0.030100597, -0.0049975845, 0.017660826, -0.033285704, -0.0006968888, -0.07314683, 0.018258184, 0.05176264, 0.027715044, -0.021582361, 0.0055323667, -0.030410754, 0.0029456655, -0.03069707, -0.044707056, 0.0297057, -0.044051558, -0.039461333, -0.006910976, 0.021347653, 0.031227307, -0.0015052994, -0.007968679, -0.009141136, -0.00675406, 0.007986992, 0.0069522876, 0.025621247, -0.018949911, -0.016001394, -0.0101341745, -0.0431692, 0.0106198285, -0.022320492, -0.03731507, 0.011665063, 0.023048593, -0.0020100558, -0.047279727, 0.014556973, -0.039441258, -0.032666363, 0.033260584, -0.07903075, -0.003252011, -0.0022707374, -0.008288932, -0.008592346, 0.0073621664, 0.024410538, 0.011671648, -0.0018650317, 0.06088427, -0.021728333, 0.0003719234, -0.019557627, 0.023826336, 0.011919102, 0.06532829, -0.023706721, -0.061313767, 0.012826124, 0.004799171, -0.04163953, 0.030682506, 0.022998052, -0.028069308, -0.0052681617, -0.004227813, 0.06891271, -0.09201435, -0.021089615, -0.007398413, 0.0023386644, 0.024233812, -0.004209963, 0.03993386, -0.007525334, -0.017262705, 0.00013880299, 0.03373896, -0.0041866293, -0.010701159, 0.0052668643, 0.0050611864, -0.064005546, 0.021326268, -0.010119808, 0.017304339, 0.009362764, 0.025042837, -0.04218014, 0.03612407, -0.017217364, -0.009109216, -0.006457392, 0.033347655, 0.003989193, -0.014936557, -0.003688077, -0.004018635, -0.0003549895, 0.008502998, -0.0021675455, -0.043062124, -0.023369264, 0.08299316, -0.03683817, -0.07110408, -0.009859924, 0.012225049, 0.04673663, 0.049987897, -0.042423736, -0.025355969, -0.012938852, 0.008269062, -0.0378581, -0.015470055, -0.007169199, -0.0076288036, 0.072742164, -0.06119356, 0.023392187, 0.030059425, 0.020646643, 0.0033845722, 0.013989624, -0.037284818, 0.06848072, -0.0508343, -0.021454774, -0.0135373445, -0.002366089, 0.04169106, -0.046400774, -0.093558185, -0.015220961, 0.03331915, -0.078928605, 0.06785493, 0.009946453, -0.009876512, 0.044087734, -0.03877799, -0.025328532, -0.0016861643, 0.042907238, -0.07647007, -0.07856542, -0.04948618, -0.0068633575, -0.009425462, -0.021617057, 0.05813725, 0.011502479, -0.04764497, -0.053538576, 0.044928964, -0.03325753, -0.043421797, 0.022295108, 0.007630696, -0.032433372, -0.041858755, -0.04136799, 0.07544867, 0.02404122, 0.051156763, 0.014308898, 0.049622662, 0.054374043, -0.015777275, 0.032979246, -0.0407484, -0.05829557, 0.026314761, 0.01448103, -0.10019846, 0.0057228715, 0.030335307, 0.0060996194, 0.02679, 0.05822982, -0.01600143, -0.060487356, -0.043381065, 0.020570792, -0.04556327, -0.021361306, 0.0039738277, -0.00420222, -0.019422203, -0.047616955, 0.004455371, -0.029193828, 0.04960318, 0.012877607, -0.040321153, -0.036562268, -0.011669166, 0.040655117, 0.029029837, -0.008683799, -0.05841899, -0.043691397, -0.039358195, 0.01825012, -0.09123192, 0.047200646, 0.058359366, -0.015639346, 0.029349627, -0.019713342, -0.046841376, 0.03712338, -0.00571785, 0.018098284, -0.007153491, -0.030394075, -0.02720585, 0.007314085, -0.020536605, 0.01957442, 0.019191653, -0.025196226, -0.046800274, -0.072144546, 0.019982966, -0.023327306, -0.02547457, -0.01533462, 0.064318195, 0.00016507145, -0.045331422, -0.013132406, 0.013461961, 0.022859156, -0.00432101, -0.040876906, -0.02739899, 0.00046742012, -0.031543296, -0.020103903, -0.009425546, 0.014517799, 0.064826764, 0.06961398, 0.028568687, 0.01011193, -0.021476267, 0.028014539, 0.04533168, -0.037306614, 0.007845914, 0.024276363, -0.013768072, 0.08499322, 0.040432476, -0.007768972, 0.0034719387, -0.060994737, -0.054761663, 0.013511246, -0.02180229, 0.03365429, -0.014130807, 0.0419258, 0.041513596, -0.028816916, 0.014495709, 0.013790617, -0.025811087, 0.051398646, 0.021199172, 0.031333786, -0.030679667, -0.05379951, -0.046239916, -0.0036249002, 0.021195121, 0.06669553, -0.0056529683, -0.057144858, -0.011298723, -0.028618766, -0.019023664, -0.05601359, -0.06344517, 0.0012421343, 0.027349783, -0.03895207, 0.034248143, -0.029287323, -0.0319847, 0.06051561, -0.017888851, -0.017308898, -0.07488161, -0.012615372, 0.01615558, -0.01808443, 0.040533435, 0.04241907, -0.022743082, 0.009975838]}\n"
     ]
    }
   ],
   "source": [
    "print(len(final_chunks_embed))\n",
    "print(final_chunks_embed[0])"
   ]
  },
  {
   "cell_type": "markdown",
   "id": "ba8da3f3",
   "metadata": {},
   "source": [
    "Here I save the file to free memory from my variables."
   ]
  },
  {
   "cell_type": "code",
   "execution_count": 55,
   "id": "2dc405b3",
   "metadata": {},
   "outputs": [],
   "source": [
    "import json\n",
    "\n",
    "with open('chunks-data-2.json', 'w', encoding='utf-8') as f:\n",
    "    \n",
    "    chunks_dictionary = {\"data\" : final_chunks_embed}    \n",
    "\n",
    "    json.dump(chunks_dictionary, f, ensure_ascii=False, indent=4)"
   ]
  },
  {
   "cell_type": "code",
   "execution_count": 56,
   "id": "9d6b1728",
   "metadata": {},
   "outputs": [],
   "source": [
    "## Clearing the memory\n",
    "\n",
    "final_chunks = []\n",
    "final_chunks_embed = []"
   ]
  },
  {
   "cell_type": "markdown",
   "id": "860dcf8a",
   "metadata": {},
   "source": [
    "## Uploading embeddings to Pinecone vector database\n",
    "Finally I will upload all embeddings and metadata to Pinecone"
   ]
  },
  {
   "cell_type": "code",
   "execution_count": 57,
   "id": "95ebc1a5",
   "metadata": {},
   "outputs": [],
   "source": [
    "import json\n",
    "data = []\n",
    "with open(\"processed-docs/chunks-data-2.json\", \"r\") as f:\n",
    "    data = json.loads(f.read())\n",
    "    data = data[\"data\"]"
   ]
  },
  {
   "cell_type": "markdown",
   "id": "cd871f76",
   "metadata": {},
   "source": [
    "I will check that I have loaded data correctly"
   ]
  },
  {
   "cell_type": "code",
   "execution_count": 58,
   "id": "a8e22194",
   "metadata": {},
   "outputs": [
    {
     "name": "stdout",
     "output_type": "stream",
     "text": [
      "1380\n"
     ]
    }
   ],
   "source": [
    "print(len(data))"
   ]
  },
  {
   "cell_type": "markdown",
   "id": "72307951",
   "metadata": {},
   "source": [
    "Time to initialize Pinecone"
   ]
  },
  {
   "cell_type": "code",
   "execution_count": 59,
   "id": "75e8c117",
   "metadata": {},
   "outputs": [],
   "source": [
    "from pinecone import Pinecone, ServerlessSpec\n",
    "import os\n",
    "\n",
    "pinecone_api_key = os.environ.get(\"PINECONE_API_KEY\")\n",
    "\n",
    "pc = Pinecone(api_key=pinecone_api_key)"
   ]
  },
  {
   "cell_type": "markdown",
   "id": "37d63ec2",
   "metadata": {},
   "source": [
    "Now, I create an index to upsert my embeddings."
   ]
  },
  {
   "cell_type": "code",
   "execution_count": 60,
   "id": "616ca3a0",
   "metadata": {},
   "outputs": [],
   "source": [
    "pc.create_index(\n",
    "    name=\"general-handbook-2\",\n",
    "    dimension=768, # Replace with your model dimensions\n",
    "    metric=\"cosine\", # Replace with your model metric\n",
    "    spec=ServerlessSpec(\n",
    "        cloud=\"aws\",\n",
    "        region=\"us-east-1\"\n",
    "    ) \n",
    ")"
   ]
  },
  {
   "cell_type": "markdown",
   "id": "be5e479c",
   "metadata": {},
   "source": [
    "I realized I have to follow a specific format to upsert my vectors to Pinecone, so I will create a new list of dictionaries with the new format.\n",
    "\n",
    "Update: Later I found that each upsert has a limit, so I divide all data into 3 lists"
   ]
  },
  {
   "cell_type": "code",
   "execution_count": 61,
   "id": "a6fa6ecb",
   "metadata": {},
   "outputs": [],
   "source": [
    "# This is an example of the new format for the chunks data\n",
    "# {\n",
    "#     \"id\": \"1\", \n",
    "#     \"values\": [0.1, 0.1, 0.1, 0.1, 0.1, 0.1, 0.1, 0.1],\n",
    "#     \"metadata\": {\"chapter\": \"example\", \"chapter_url\": \"example\", \"section\": \"example\", \"title\": \"example\", \"content\": \"example\"}\n",
    "# }\n",
    "\n",
    "new_data_1 = []\n",
    "new_data_2 = []\n",
    "new_data_3 = []\n",
    "\n",
    "vector_id = 1\n",
    "\n",
    "for chunk in data:\n",
    "    if vector_id < 500:\n",
    "        new_data_1.append({\n",
    "            \"id\": str(vector_id),\n",
    "            \"values\": chunk[\"embedding\"],            \n",
    "            \"metadata\" : {\"chapter\": chunk[\"chapter\"], \"chapter_url\": chunk[\"chapter_url\"], \"section\": chunk[\"section\"], \"title\": chunk[\"title\"], \"content\": chunk[\"content\"]}\n",
    "        })\n",
    "    elif vector_id < 1000:\n",
    "        new_data_2.append({\n",
    "            \"id\": str(vector_id),\n",
    "            \"values\": chunk[\"embedding\"],            \n",
    "            \"metadata\" : {\"chapter\": chunk[\"chapter\"], \"chapter_url\": chunk[\"chapter_url\"], \"section\": chunk[\"section\"], \"title\": chunk[\"title\"], \"content\": chunk[\"content\"]}\n",
    "        })\n",
    "    else:\n",
    "        new_data_3.append({\n",
    "            \"id\": str(vector_id),\n",
    "            \"values\": chunk[\"embedding\"],            \n",
    "            \"metadata\" : {\"chapter\": chunk[\"chapter\"], \"chapter_url\": chunk[\"chapter_url\"], \"section\": chunk[\"section\"], \"title\": chunk[\"title\"], \"content\": chunk[\"content\"]}\n",
    "        })\n",
    "    \n",
    "    vector_id += 1\n",
    "    "
   ]
  },
  {
   "cell_type": "code",
   "execution_count": 62,
   "id": "81b70312",
   "metadata": {},
   "outputs": [
    {
     "name": "stdout",
     "output_type": "stream",
     "text": [
      "new_data_1 length: 499\n",
      "Largest: 4220\n",
      "new_data_2 length: 500\n",
      "Largest: 11656\n",
      "new_data_3 length: 381\n",
      "Largest: 4999\n"
     ]
    }
   ],
   "source": [
    "largest = 0\n",
    "\n",
    "for data in new_data_1:\n",
    "    if len(data[\"metadata\"][\"content\"]) > largest:\n",
    "        largest = len(data[\"metadata\"][\"content\"])\n",
    "\n",
    "print(\"new_data_1 length:\", len(new_data_1))\n",
    "print(\"Largest:\", largest)\n",
    "\n",
    "largest = 0\n",
    "for data in new_data_2:\n",
    "    if len(data[\"metadata\"][\"content\"]) > largest:\n",
    "        largest = len(data[\"metadata\"][\"content\"])\n",
    "\n",
    "print(\"new_data_2 length:\", len(new_data_2))\n",
    "print(\"Largest:\", largest)\n",
    "\n",
    "largest = 0\n",
    "for data in new_data_3:\n",
    "    if len(data[\"metadata\"][\"content\"]) > largest:\n",
    "        largest = len(data[\"metadata\"][\"content\"])\n",
    "\n",
    "print(\"new_data_3 length:\", len(new_data_3))\n",
    "print(\"Largest:\", largest)"
   ]
  },
  {
   "cell_type": "markdown",
   "id": "f027b5d2",
   "metadata": {},
   "source": [
    "Finally, I will upsert all vectors to Pinecone"
   ]
  },
  {
   "cell_type": "code",
   "execution_count": 69,
   "id": "f8034394",
   "metadata": {},
   "outputs": [
    {
     "name": "stdout",
     "output_type": "stream",
     "text": [
      "Completed 1\n",
      "Completed 2\n",
      "Completed 3\n"
     ]
    }
   ],
   "source": [
    "index = pc.Index(\"general-handbook-2\")\n",
    "\n",
    "index.upsert(\n",
    "    vectors = new_data_1,\n",
    "    namespace = \"general-handbook-vectors-2\"\n",
    ")\n",
    "print(\"Completed 1\")\n",
    "\n",
    "index.upsert(\n",
    "    vectors = new_data_2,\n",
    "    namespace = \"general-handbook-vectors-2\"\n",
    ")\n",
    "print(\"Completed 2\")\n",
    "\n",
    "index.upsert(\n",
    "    vectors = new_data_3,\n",
    "    namespace = \"general-handbook-vectors-2\"\n",
    ")\n",
    "print(\"Completed 3\")"
   ]
  },
  {
   "cell_type": "markdown",
   "id": "80669f75",
   "metadata": {},
   "source": [
    "I deleted the index vectors a few times to try different approaches to upsert."
   ]
  },
  {
   "cell_type": "code",
   "execution_count": null,
   "id": "7069f7b5",
   "metadata": {},
   "outputs": [],
   "source": [
    "# index = pc.Index(\"general-handbook\")\n",
    "# index.delete(delete_all=True, namespace=\"general-handbook-vectors\")"
   ]
  }
 ],
 "metadata": {
  "kernelspec": {
   "display_name": ".venv",
   "language": "python",
   "name": "python3"
  },
  "language_info": {
   "codemirror_mode": {
    "name": "ipython",
    "version": 3
   },
   "file_extension": ".py",
   "mimetype": "text/x-python",
   "name": "python",
   "nbconvert_exporter": "python",
   "pygments_lexer": "ipython3",
   "version": "3.10.12"
  }
 },
 "nbformat": 4,
 "nbformat_minor": 5
}
