{
 "cells": [
  {
   "cell_type": "markdown",
   "id": "dda532db-ca51-422c-94c3-084bfc3f06ca",
   "metadata": {},
   "source": [
    "# RAG Project - General Handbook Data Collection"
   ]
  },
  {
   "cell_type": "code",
   "execution_count": 1,
   "id": "1e65e576-6ece-45dc-84ba-d236f32c9560",
   "metadata": {},
   "outputs": [
    {
     "name": "stdout",
     "output_type": "stream",
     "text": [
      "My first line of code in local Jupyter notebook\n"
     ]
    }
   ],
   "source": [
    "print(\"My first line of code in local Jupyter notebook\")"
   ]
  },
  {
   "cell_type": "code",
   "execution_count": 2,
   "id": "068c4e0c-c2c8-43c6-876a-ec5ace779c94",
   "metadata": {},
   "outputs": [
    {
     "name": "stdout",
     "output_type": "stream",
     "text": [
      "0\n",
      "1\n",
      "2\n",
      "3\n",
      "4\n"
     ]
    }
   ],
   "source": [
    "for i in range(5):\n",
    "    print(i)"
   ]
  },
  {
   "cell_type": "code",
   "execution_count": 3,
   "id": "f37e5380-3abb-42d9-bfa5-cd6957ea8aeb",
   "metadata": {},
   "outputs": [
    {
     "name": "stdout",
     "output_type": "stream",
     "text": [
      "Now, I don't know what to do, hehe XD\n"
     ]
    }
   ],
   "source": [
    "print(\"Now, I don't know what to do, hehe XD\")"
   ]
  },
  {
   "cell_type": "code",
   "execution_count": null,
   "id": "4530f64c-62a1-4ee2-aa68-51a45a931633",
   "metadata": {},
   "outputs": [],
   "source": []
  }
 ],
 "metadata": {
  "kernelspec": {
   "display_name": "Python 3 (ipykernel)",
   "language": "python",
   "name": "python3"
  },
  "language_info": {
   "codemirror_mode": {
    "name": "ipython",
    "version": 3
   },
   "file_extension": ".py",
   "mimetype": "text/x-python",
   "name": "python",
   "nbconvert_exporter": "python",
   "pygments_lexer": "ipython3",
   "version": "3.10.12"
  }
 },
 "nbformat": 4,
 "nbformat_minor": 5
}
