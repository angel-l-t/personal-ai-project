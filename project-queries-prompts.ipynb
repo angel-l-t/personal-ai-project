{
 "cells": [
  {
   "cell_type": "markdown",
   "metadata": {},
   "source": [
    "# RAG Project - General Handbook / Querying Database and Prompting LLM\n",
    "## Querying Pinecone\n",
    "I will start by importing the required libraries."
   ]
  },
  {
   "cell_type": "code",
   "execution_count": 1,
   "metadata": {},
   "outputs": [
    {
     "name": "stderr",
     "output_type": "stream",
     "text": [
      "/home/angelo/ai-internship/personal-ai-project/.venv/lib/python3.10/site-packages/pinecone/data/index.py:1: TqdmWarning: IProgress not found. Please update jupyter and ipywidgets. See https://ipywidgets.readthedocs.io/en/stable/user_install.html\n",
      "  from tqdm.autonotebook import tqdm\n"
     ]
    }
   ],
   "source": [
    "from pinecone import Pinecone, ServerlessSpec\n",
    "import google.generativeai as genai\n",
    "\n",
    "from dotenv import load_dotenv\n",
    "import os\n",
    "load_dotenv()\n",
    "\n",
    "## Initializing connection to Pinecone index\n",
    "pinecone_api_key = os.environ.get(\"PINECONE_API_KEY\")\n",
    "\n",
    "pc = Pinecone(api_key=pinecone_api_key)\n",
    "index = pc.Index(\"general-handbook\")\n",
    "\n",
    "## Initializing Google API to generate embeddings\n",
    "google_api_key=os.environ.get(\"GOOGLE_API_KEY\")\n",
    "\n",
    "genai.configure(api_key=google_api_key)"
   ]
  },
  {
   "cell_type": "markdown",
   "metadata": {},
   "source": [
    "Now, I will create a function that sends queries to Pinecone and returns the response."
   ]
  },
  {
   "cell_type": "code",
   "execution_count": 2,
   "metadata": {},
   "outputs": [],
   "source": [
    "def query_pinecone(query_text, top_k=5):\n",
    "    \"\"\"\n",
    "    This function queries the Pinecone index for the given query text and returns the top-k results as a list of formatted strings.\n",
    "    args:\n",
    "        query_text: string\n",
    "        top_k: integer\n",
    "    \"\"\"\n",
    "    \n",
    "    query_vector = genai.embed_content(\n",
    "        model = \"models/embedding-001\",\n",
    "        content = query_text,\n",
    "        task_type = \"retrieval_document\",\n",
    "        title = \"Embedding of single string\"\n",
    "    )\n",
    "\n",
    "    results = index.query(\n",
    "        namespace = \"general-handbook-vectors\",\n",
    "        vector = query_vector[\"embedding\"],\n",
    "        top_k = top_k,\n",
    "        include_values = False,\n",
    "        include_metadata = True,\n",
    "        # filter = {\"genre\": {\"$eq\": \"action\"}}\n",
    "    )\n",
    "\n",
    "    match_list = []\n",
    "\n",
    "    for matched in results[\"matches\"]:\n",
    "        match_string = f\"\"\"\n",
    "        Chapter: {matched['metadata']['chapter']}\n",
    "        Header: {matched['metadata']['title']}\n",
    "        Section: {matched['metadata']['section']}\n",
    "        Url: {matched['metadata']['url']}\n",
    "        --------------------------------------------------\n",
    "        Content: {matched['metadata']['content']}\n",
    "        \"\"\"\n",
    "\n",
    "        match_list.append(match_string)\n",
    "\n",
    "    return match_list"
   ]
  },
  {
   "cell_type": "code",
   "execution_count": 25,
   "metadata": {},
   "outputs": [],
   "source": [
    "matches = query_pinecone(\"What do I need to have to enter the temple?\", top_k = 5)\n",
    "\n",
    "# print(matches)"
   ]
  },
  {
   "cell_type": "code",
   "execution_count": 26,
   "metadata": {},
   "outputs": [
    {
     "name": "stdout",
     "output_type": "stream",
     "text": [
      "\n",
      "        Chapter: Church Policies and Guidelines\n",
      "        Header: Need\n",
      "        Section: 38.4\n",
      "        Url: https://www.churchofjesuschrist.org/study/manual/general-handbook/38-church-policies-and-guidelines?lang=eng\n",
      "        --------------------------------------------------\n",
      "        Content: I need to have a restriction against temple sealing removed.  Section\n",
      "        \n",
      "\n",
      "        Chapter: Church Policies and Guidelines\n",
      "        Header: Making Temple Clothing\n",
      "        Section: 38.5\n",
      "        Url: https://www.churchofjesuschrist.org/study/manual/general-handbook/38-church-policies-and-guidelines?lang=eng\n",
      "        --------------------------------------------------\n",
      "        Content: Members should not make ceremonial temple clothing or temple garments.\n",
      "        \n",
      "\n",
      "        Chapter: Temple Ordinances for the Living\n",
      "        Header: Translation or Interpretation Assistance\n",
      "        Section: 27.1\n",
      "        Url: https://www.churchofjesuschrist.org/study/manual/general-handbook/27-temple-ordinances-for-the-living?lang=eng\n",
      "        --------------------------------------------------\n",
      "        Content: If members need translation or interpretation assistance, they should contact the temple in advance to see if it is available. See temples.ChurchofJesusChrist.org for each temple’s contact information.\n",
      "        \n",
      "\n",
      "        Chapter: Temple Ordinances for the Living\n",
      "        Header: Meeting with Members after They Receive Temple Ordinances\n",
      "        Section: 27.1\n",
      "        Url: https://www.churchofjesuschrist.org/study/manual/general-handbook/27-temple-ordinances-for-the-living?lang=eng\n",
      "        --------------------------------------------------\n",
      "        Content: Members often have questions after receiving temple ordinances. Endowed family members, the bishop, other ward leaders, and ministering brothers and sisters may meet with members to discuss their temple experience. Leaders also encourage members to seek answers to their questions through the inspiration of the Holy Ghost. In the temple, the Spirit can provide answers to many of the questions that members may have about their temple experience. Resources to help answer questions are available at temples.ChurchofJesusChrist.org.\n",
      "        \n",
      "\n",
      "        Chapter: Temple and Family History Work in the Ward and Stake\n",
      "        Header: Individual Responsibility for Temple Attendance\n",
      "        Section: 25.1\n",
      "        Url: https://www.churchofjesuschrist.org/study/manual/general-handbook/25-temple-and-family-history-work?lang=eng\n",
      "        --------------------------------------------------\n",
      "        Content: Members determine for themselves when and how often to worship in the temple. Leaders do not establish quotas or reporting systems for temple attendance.\n",
      "        \n"
     ]
    }
   ],
   "source": [
    "match_string = \"\\n\".join(matches)\n",
    "print(match_string)"
   ]
  },
  {
   "cell_type": "markdown",
   "metadata": {},
   "source": [
    "## Prompting Gemini with queried vectors\n",
    "Now, I will create a function that takes up the results from the query to Pinecone, and uses them to answer the user's question.\n",
    "\n",
    "First, let's import and create the necessary funcitons for the initial setup."
   ]
  },
  {
   "cell_type": "code",
   "execution_count": 3,
   "metadata": {},
   "outputs": [],
   "source": [
    "from IPython.display import Markdown\n",
    "import textwrap\n",
    "\n",
    "def to_markdown(text):\n",
    "  text = text.replace('•', '  *')\n",
    "  return Markdown(textwrap.indent(text, '> ', predicate=lambda _: True))\n",
    "\n",
    "text_generator = genai.GenerativeModel('gemini-1.5-flash')"
   ]
  },
  {
   "cell_type": "markdown",
   "metadata": {},
   "source": [
    "I will first try with a test prompt, and adjust it before creating the funtions that will put it all together."
   ]
  },
  {
   "cell_type": "code",
   "execution_count": 17,
   "metadata": {},
   "outputs": [
    {
     "data": {
      "text/markdown": [
       "> According to the General Handbook of the Church of Jesus Christ of Latter-day Saints, the elders quorum president is directly responsible to the stake presidency and meets regularly with a member of the presidency to receive direction and report on his responsibilities.  The elders quorum president also receives guidance from the bishop, who is the presiding officer in the ward, and they meet regularly.  They discuss their efforts in God's work of salvation and exaltation, including the service of ministering brothers, the progress and needs of ward members, and elders quorum meetings, instruction, and activities. The elders quorum presidencies may also plan activities to strengthen quorum members and give them opportunities to serve together.  These activities are overseen by the elders quorum president and are most often held at times other than on Sundays or Monday evenings.  They also discuss activities with the bishop as part of their planning. You can find this information in the General Handbook under the following URL: https://www.churchofjesuschrist.org/study/manual/general-handbook/8-elders-quorum?lang=eng. \n"
      ],
      "text/plain": [
       "<IPython.core.display.Markdown object>"
      ]
     },
     "execution_count": 17,
     "metadata": {},
     "output_type": "execute_result"
    }
   ],
   "source": [
    "promt = \"\"\"\n",
    "Your role:\n",
    "You are a chatbot that answers questions about the General Handbook of the Church of Jesus Christ of Latter Day Saints.\n",
    "\n",
    "Intructions:\n",
    "Below is a list of information received from a vector database where you might find information to answer the user's question about the General Handbook.\n",
    "Each chunk of information contains a title, url, and content. You will mainly answer questions from the content, but feel free to share that extra information as reference.\n",
    "\n",
    "Information:\n",
    "START OF INFORMATION\n",
    "\n",
    "Chapter: Elders Quorum\n",
    "Header: Stake Presidency and Bishop\n",
    "Section: 8.3\n",
    "Url: https://www.churchofjesuschrist.org/study/manual/general-handbook/8-elders-quorum?lang=eng\n",
    "--------------------------------------------------\n",
    "Content: The elders quorum president is directly responsible to the stake presidency. He meets regularly with a member of the presidency to receive direction and report on his responsibilities. The elders quorum president also receives guidance from the bishop, who is the presiding officer in the ward. They meet regularly. They discuss their efforts in God’s work of salvation and exaltation, including the service of ministering brothers. They also discuss (1) the progress and needs of ward members and (2) elders quorum meetings, instruction, and activities.\n",
    "\n",
    "\n",
    "Chapter: Elders Quorum\n",
    "Header: Activities\n",
    "Section: 8.2\n",
    "Url: https://www.churchofjesuschrist.org/study/manual/general-handbook/8-elders-quorum?lang=eng\n",
    "--------------------------------------------------\n",
    "Content: Elders quorum presidencies may plan activities. These activities strengthen quorum members and give them opportunities to serve together. Most activities are held at times other than on Sundays or Monday evenings. The elders quorum president oversees these activities. He may ask a counselor or another quorum member to take the lead in planning and carrying them out (see 8.3.5). Presidencies discuss activities with the bishop as part of their planning.\n",
    "\n",
    "\n",
    "Chapter: Elders Quorum\n",
    "Header: High Councilor\n",
    "Section: 8.3\n",
    "Url: https://www.churchofjesuschrist.org/study/manual/general-handbook/8-elders-quorum?lang=eng\n",
    "--------------------------------------------------\n",
    "Content: The stake presidency assigns a high councilor to represent them in each elders quorum. His responsibilities are outlined in 6.5.\n",
    "\n",
    "\n",
    "Chapter: Sharing the Gospel and Strengthening New and Returning Members\n",
    "Header: High Councilors\n",
    "Section: 23.5\n",
    "Url: https://www.churchofjesuschrist.org/study/manual/general-handbook/23?lang=eng\n",
    "--------------------------------------------------\n",
    "Content: The stake presidency may assign high councilors to instruct and support elders quorum presidencies and ward mission leaders. One or more high councilors may be assigned to lead these efforts. However, all high councilors have these responsibilities for the wards and quorums to which they are assigned.\n",
    "\n",
    "\n",
    "Chapter: Elders Quorum\n",
    "Header: Living the Gospel of Jesus Christ\n",
    "Section: 8.2\n",
    "Url: https://www.churchofjesuschrist.org/study/manual/general-handbook/8-elders-quorum?lang=eng\n",
    "--------------------------------------------------\n",
    "Content: Elders quorum leaders support members in living the gospel of Jesus Christ. They emphasize exercising faith, repenting, increasing in self-reliance, and making covenants with God by receiving ordinances. Such ordinances include the temple endowment. See 1.2.1.\n",
    "\n",
    "END OF INFORMATION\n",
    "\n",
    "(Further instructions: If the user seems to be asking about something not related to the General Handbook, invite them to ask about it. If instead of a questions they seem to be thanking you for previous answers, show that you welcome their gratitude)\n",
    "User Input:\n",
    "What are the responsibilities of the Elders' Quorum Presidency?\n",
    "\"\"\"\n",
    "\n",
    "response = text_generator.generate_content(promt)\n",
    "\n",
    "to_markdown(response.text)"
   ]
  },
  {
   "cell_type": "markdown",
   "metadata": {},
   "source": [
    "Finally, I will use gradio as my UI, and I will use the query_pinecone function and the generate_content function to prompt Gemini for answers to the users questions."
   ]
  },
  {
   "cell_type": "code",
   "execution_count": null,
   "metadata": {},
   "outputs": [],
   "source": [
    "import random\n",
    "import gradio as gr\n",
    "\n",
    "def format_chat_prompt(message, chat_history):\n",
    "    prompt = \"\"\n",
    "    for turn in chat_history:\n",
    "        user_message, bot_message = turn\n",
    "        prompt = f\"{prompt}\\nUser: {user_message}\\nAssistant: {bot_message}\"\n",
    "    prompt = f\"{prompt}\\nUser: {message}\\nAssistant:\"\n",
    "    return prompt\n",
    "\n",
    "def respond(message, chat_history):\n",
    "        \n",
    "        information = query_pinecone(message)\n",
    "        information = \"\\n\".join(information)\n",
    "\n",
    "        full_prompt = f\"\"\"\n",
    "        Your role:\n",
    "        You are a chatbot that answers questions about the General Handbook of the Church of Jesus Christ of Latter Day Saints.\n",
    "\n",
    "        Intructions:\n",
    "        Below is a list of information received from a vector database where you might find information to answer the user's question about the General Handbook.\n",
    "        Each chunk of information contains a title, url, and content. You will mainly answer questions from the content, but feel free to share that extra information as reference.\n",
    "\n",
    "        Information:\n",
    "        START OF INFORMATION\n",
    "\n",
    "        {information}\n",
    "\n",
    "        END OF INFORMATION\n",
    "\n",
    "        (Further instructions: If the user seems to be asking about something not related to the General Handbook, invite them to ask about it. If instead of a questions they seem to be thanking you for previous answers, show that you welcome their gratitude)\n",
    "        User Input:\n",
    "        {message}\n",
    "        \"\"\"\n",
    "\n",
    "\n",
    "        formatted_prompt = format_chat_prompt(full_prompt, chat_history)\n",
    "        bot_message = text_generator.generate_content(formatted_prompt).text\n",
    "        chat_history.append((message, bot_message))\n",
    "        return \"\", chat_history\n",
    "\n",
    "with gr.Blocks() as demo:\n",
    "    chatbot = gr.Chatbot(height=480) #just to fit the notebook\n",
    "    msg = gr.Textbox(label=\"Question\")\n",
    "    btn = gr.Button(\"Submit\")\n",
    "    clear = gr.ClearButton(components=[msg, chatbot], value=\"Clear console\")\n",
    "\n",
    "    btn.click(respond, inputs=[msg, chatbot], outputs=[msg, chatbot])\n",
    "    msg.submit(respond, inputs=[msg, chatbot], outputs=[msg, chatbot]) #Press enter to submit\n",
    "\n",
    "gr.close_all()\n",
    "demo.launch(share=True)"
   ]
  },
  {
   "cell_type": "code",
   "execution_count": null,
   "metadata": {},
   "outputs": [],
   "source": []
  }
 ],
 "metadata": {
  "kernelspec": {
   "display_name": ".venv",
   "language": "python",
   "name": "python3"
  },
  "language_info": {
   "codemirror_mode": {
    "name": "ipython",
    "version": 3
   },
   "file_extension": ".py",
   "mimetype": "text/x-python",
   "name": "python",
   "nbconvert_exporter": "python",
   "pygments_lexer": "ipython3",
   "version": "3.10.12"
  }
 },
 "nbformat": 4,
 "nbformat_minor": 2
}
