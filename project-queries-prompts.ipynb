{
 "cells": [
  {
   "cell_type": "markdown",
   "metadata": {},
   "source": [
    "# RAG Project - General Handbook / Querying Database and Prompting LLM\n",
    "## Querying Pinecone\n",
    "I will start by importing the required libraries."
   ]
  },
  {
   "cell_type": "code",
   "execution_count": 3,
   "metadata": {},
   "outputs": [
    {
     "name": "stderr",
     "output_type": "stream",
     "text": [
      "/home/angelo/ai-internship/personal-ai-project/.venv/lib/python3.10/site-packages/pinecone/data/index.py:1: TqdmWarning: IProgress not found. Please update jupyter and ipywidgets. See https://ipywidgets.readthedocs.io/en/stable/user_install.html\n",
      "  from tqdm.autonotebook import tqdm\n"
     ]
    }
   ],
   "source": [
    "from pinecone import Pinecone, ServerlessSpec\n",
    "import google.generativeai as genai\n",
    "\n",
    "from dotenv import load_dotenv\n",
    "import os\n",
    "load_dotenv()\n",
    "\n",
    "## Initializing connection to Pinecone index\n",
    "pinecone_api_key = os.environ.get(\"PINECONE_API_KEY\")\n",
    "\n",
    "pc = Pinecone(api_key=pinecone_api_key)\n",
    "index = pc.Index(\"general-handbook\")\n",
    "\n",
    "## Initializing Google API to generate embeddings\n",
    "google_api_key=os.environ.get(\"GOOGLE_API_KEY\")\n",
    "\n",
    "genai.configure(api_key=google_api_key)"
   ]
  },
  {
   "cell_type": "markdown",
   "metadata": {},
   "source": [
    "Now, I will create a function that sends queries to Pinecone and returns the response."
   ]
  },
  {
   "cell_type": "code",
   "execution_count": 6,
   "metadata": {},
   "outputs": [],
   "source": [
    "def query_pinecone(query_text, top_k=5):\n",
    "    \"\"\"\n",
    "    This function queries the Pinecone index for the given query text and returns the top-k results as a list of formatted strings.\n",
    "    args:\n",
    "        query_text: string\n",
    "        top_k: integer\n",
    "    \"\"\"\n",
    "    \n",
    "    query_vector = genai.embed_content(\n",
    "        model = \"models/embedding-001\",\n",
    "        content = query_text,\n",
    "        task_type = \"retrieval_document\",\n",
    "        title = \"Embedding of single string\"\n",
    "    )\n",
    "\n",
    "    results = index.query(\n",
    "        namespace = \"general-handbook-vectors\",\n",
    "        vector = query_vector[\"embedding\"],\n",
    "        top_k = top_k,\n",
    "        include_values = False,\n",
    "        include_metadata = True,\n",
    "        # filter = {\"genre\": {\"$eq\": \"action\"}}\n",
    "    )\n",
    "\n",
    "    match_list = []\n",
    "\n",
    "    for matched in results[\"matches\"]:\n",
    "        match_string = f\"\"\"\n",
    "        Chapter: {matched['metadata']['chapter']}\n",
    "        Header: {matched['metadata']['title']}\n",
    "        Section: {matched['metadata']['section']}\n",
    "        Url: {matched['metadata']['url']}\n",
    "        --------------------------------------------------\n",
    "        Content: {matched['metadata']['content']}\n",
    "        \"\"\"\n",
    "\n",
    "        match_list.append(match_string)\n",
    "\n",
    "        match_string = \"\\n\".join(match_list)\n",
    "\n",
    "    return match_string"
   ]
  },
  {
   "cell_type": "code",
   "execution_count": 7,
   "metadata": {},
   "outputs": [
    {
     "name": "stdout",
     "output_type": "stream",
     "text": [
      "\n",
      "        Chapter: Temple Recommends\n",
      "        Header: Conducting a Temple Recommend Interview\n",
      "        Section: 26.3\n",
      "        Url: https://www.churchofjesuschrist.org/study/manual/general-handbook/26-temple-recommends?lang=eng\n",
      "        --------------------------------------------------\n",
      "        Content: The temple is the house of the Lord. Entering the temple and participating in ordinances there is a sacred privilege. This privilege is reserved for those who are spiritually prepared and striving to live the Lord’s standards, as determined by authorized priesthood leaders. To make this determination, priesthood leaders interview the member using the questions below. Leaders should not add or remove any requirements. However, they may adapt the questions to the age and circumstances of the member. Sometimes members have questions during a temple recommend interview. The priesthood leader may explain basic gospel principles. He may also help members understand the temple recommend questions if needed. However, he should not present his personal beliefs, preferences, or interpretations as Church doctrine or policy. Temple recommend interviews should not be rushed. They should be private. However, the person being interviewed may invite a spouse, parent, or another adult to be present.\n",
      "        \n",
      "\n",
      "        Chapter: Missionary Recommendations and Service\n",
      "        Header: Senior Missionaries Serving Away from Home\n",
      "        Section: 24.8\n",
      "        Url: https://www.churchofjesuschrist.org/study/manual/general-handbook/24?lang=eng\n",
      "        --------------------------------------------------\n",
      "        Content: The mission president may conduct a temple recommend interview when needed. If the missionary is worthy, the mission president issues a new recommend that expires in two years.\n",
      "        \n",
      "\n",
      "        Chapter: Missionary Recommendations and Service\n",
      "        Header: Service Missionaries\n",
      "        Section: 24.8\n",
      "        Url: https://www.churchofjesuschrist.org/study/manual/general-handbook/24?lang=eng\n",
      "        --------------------------------------------------\n",
      "        Content: Young and senior service missionaries arrange through local leaders for interviews to renew temple recommends (see 26.3.1).\n",
      "        \n",
      "\n",
      "        Chapter: Missionary Recommendations and Service\n",
      "        Header: Preparing and Qualifying to Serve a Mission\n",
      "        Section: 24.3\n",
      "        Url: https://www.churchofjesuschrist.org/study/manual/general-handbook/24?lang=eng\n",
      "        --------------------------------------------------\n",
      "        Content: Prospective missionaries are encouraged to serve a mission because of their love for the Lord and His children. They should be familiar with the missionary recommendation interview questions.\n",
      "        \n",
      "\n",
      "        Chapter: Temple and Family History Work in the Ward and Stake\n",
      "        Header: Assigning Volunteers\n",
      "        Section: 25.5\n",
      "        Url: https://www.churchofjesuschrist.org/study/manual/general-handbook/25-temple-and-family-history-work?lang=eng\n",
      "        --------------------------------------------------\n",
      "        Content: Temple volunteers may be interviewed and assigned by a member of the temple presidency or someone he designates. Volunteers are assigned rather than called. They do not need to be set apart.\n",
      "        \n"
     ]
    }
   ],
   "source": [
    "user_input = \"What are the questions for the temple recommend interview?\"\n",
    "\n",
    "match_string = query_pinecone(user_input, top_k = 5)\n",
    "\n",
    "print(match_string)"
   ]
  },
  {
   "cell_type": "markdown",
   "metadata": {},
   "source": [
    "## Prompting Gemini with queried vectors\n",
    "Now, I will create a function that takes up the results from the query to Pinecone, and uses them to answer the user's question.\n",
    "\n",
    "First, let's import and create the necessary funcitons for the initial setup."
   ]
  },
  {
   "cell_type": "code",
   "execution_count": 10,
   "metadata": {},
   "outputs": [],
   "source": [
    "from IPython.display import Markdown\n",
    "import textwrap\n",
    "\n",
    "def to_markdown(text):\n",
    "  text = text.replace('•', '  *')\n",
    "  return Markdown(textwrap.indent(text, '> ', predicate=lambda _: True))\n",
    "\n",
    "text_generator = genai.GenerativeModel('gemini-1.5-flash')"
   ]
  },
  {
   "cell_type": "markdown",
   "metadata": {},
   "source": [
    "I will first try with a test prompt, and adjust it before creating the funtions that will put it all together."
   ]
  },
  {
   "cell_type": "code",
   "execution_count": 11,
   "metadata": {},
   "outputs": [
    {
     "name": "stdout",
     "output_type": "stream",
     "text": [
      "\n",
      "Your role:\n",
      "You are a chatbot that answers questions about the General Handbook of the Church of Jesus Christ of Latter Day Saints.\n",
      "\n",
      "Intructions:\n",
      "Below is a list of information received from a vector database where you might find information to answer the user's question about the General Handbook.\n",
      "Each chunk of information contains a title, url, and content. You will mainly answer questions from the content, but try also to include references for the user.\n",
      "\n",
      "Information:\n",
      "START OF INFORMATION\n",
      "\n",
      "\n",
      "        Chapter: Temple Recommends\n",
      "        Header: Conducting a Temple Recommend Interview\n",
      "        Section: 26.3\n",
      "        Url: https://www.churchofjesuschrist.org/study/manual/general-handbook/26-temple-recommends?lang=eng\n",
      "        --------------------------------------------------\n",
      "        Content: The temple is the house of the Lord. Entering the temple and participating in ordinances there is a sacred privilege. This privilege is reserved for those who are spiritually prepared and striving to live the Lord’s standards, as determined by authorized priesthood leaders. To make this determination, priesthood leaders interview the member using the questions below. Leaders should not add or remove any requirements. However, they may adapt the questions to the age and circumstances of the member. Sometimes members have questions during a temple recommend interview. The priesthood leader may explain basic gospel principles. He may also help members understand the temple recommend questions if needed. However, he should not present his personal beliefs, preferences, or interpretations as Church doctrine or policy. Temple recommend interviews should not be rushed. They should be private. However, the person being interviewed may invite a spouse, parent, or another adult to be present.\n",
      "        \n",
      "\n",
      "        Chapter: Missionary Recommendations and Service\n",
      "        Header: Senior Missionaries Serving Away from Home\n",
      "        Section: 24.8\n",
      "        Url: https://www.churchofjesuschrist.org/study/manual/general-handbook/24?lang=eng\n",
      "        --------------------------------------------------\n",
      "        Content: The mission president may conduct a temple recommend interview when needed. If the missionary is worthy, the mission president issues a new recommend that expires in two years.\n",
      "        \n",
      "\n",
      "        Chapter: Missionary Recommendations and Service\n",
      "        Header: Service Missionaries\n",
      "        Section: 24.8\n",
      "        Url: https://www.churchofjesuschrist.org/study/manual/general-handbook/24?lang=eng\n",
      "        --------------------------------------------------\n",
      "        Content: Young and senior service missionaries arrange through local leaders for interviews to renew temple recommends (see 26.3.1).\n",
      "        \n",
      "\n",
      "        Chapter: Missionary Recommendations and Service\n",
      "        Header: Preparing and Qualifying to Serve a Mission\n",
      "        Section: 24.3\n",
      "        Url: https://www.churchofjesuschrist.org/study/manual/general-handbook/24?lang=eng\n",
      "        --------------------------------------------------\n",
      "        Content: Prospective missionaries are encouraged to serve a mission because of their love for the Lord and His children. They should be familiar with the missionary recommendation interview questions.\n",
      "        \n",
      "\n",
      "        Chapter: Temple and Family History Work in the Ward and Stake\n",
      "        Header: Assigning Volunteers\n",
      "        Section: 25.5\n",
      "        Url: https://www.churchofjesuschrist.org/study/manual/general-handbook/25-temple-and-family-history-work?lang=eng\n",
      "        --------------------------------------------------\n",
      "        Content: Temple volunteers may be interviewed and assigned by a member of the temple presidency or someone he designates. Volunteers are assigned rather than called. They do not need to be set apart.\n",
      "        \n",
      "END OF INFORMATION\n",
      "\n",
      "(Further instructions: If the user seems to be asking about something not related to the General Handbook, invite them to ask about it. If instead of a questions they seem to be thanking you for previous answers, show that you welcome their gratitude)\n",
      "User Input or question:\n",
      "\n",
      "What are the questions for the temple recommend interview?\n",
      "\n"
     ]
    }
   ],
   "source": [
    "promt = f\"\"\"\n",
    "Your role:\n",
    "You are a chatbot that answers questions about the General Handbook of the Church of Jesus Christ of Latter Day Saints.\n",
    "\n",
    "Intructions:\n",
    "Below is a list of information received from a vector database where you might find information to answer the user's question about the General Handbook.\n",
    "Each chunk of information contains a title, url, and content. You will mainly answer questions from the content, but try also to include references for the user.\n",
    "\n",
    "Information:\n",
    "START OF INFORMATION\n",
    "\n",
    "{match_string}\n",
    "END OF INFORMATION\n",
    "\n",
    "(Further instructions: If the user seems to be asking about something not related to the General Handbook, invite them to ask about it. If instead of a questions they seem to be thanking you for previous answers, show that you welcome their gratitude)\n",
    "User Input or question:\n",
    "\n",
    "{user_input}\n",
    "\"\"\"\n",
    "print(promt)"
   ]
  },
  {
   "cell_type": "code",
   "execution_count": 12,
   "metadata": {},
   "outputs": [
    {
     "data": {
      "text/markdown": [
       "> The General Handbook doesn't specify the questions for the temple recommend interview. It states that authorized priesthood leaders determine if a member is spiritually prepared to enter the temple by interviewing them using pre-defined questions. You can find more details in the General Handbook section 26.3: [https://www.churchofjesuschrist.org/study/manual/general-handbook/26-temple-recommends?lang=eng](https://www.churchofjesuschrist.org/study/manual/general-handbook/26-temple-recommends?lang=eng) \n"
      ],
      "text/plain": [
       "<IPython.core.display.Markdown object>"
      ]
     },
     "execution_count": 12,
     "metadata": {},
     "output_type": "execute_result"
    }
   ],
   "source": [
    "response = text_generator.generate_content(promt)\n",
    "\n",
    "to_markdown(response.text)"
   ]
  },
  {
   "cell_type": "markdown",
   "metadata": {},
   "source": [
    "Finally, I will use gradio as my UI, and I will use the query_pinecone function and the generate_content function to prompt Gemini for answers to the users questions."
   ]
  },
  {
   "cell_type": "code",
   "execution_count": null,
   "metadata": {},
   "outputs": [],
   "source": [
    "import random\n",
    "import gradio as gr\n",
    "\n",
    "def format_chat_prompt(message, chat_history):\n",
    "    prompt = \"\"\n",
    "    for turn in chat_history:\n",
    "        user_message, bot_message = turn\n",
    "        prompt = f\"{prompt}\\nUser: {user_message}\\nAssistant: {bot_message}\"\n",
    "    prompt = f\"{prompt}\\nUser: {message}\\nAssistant:\"\n",
    "    return prompt\n",
    "\n",
    "def respond(message, chat_history):\n",
    "        \n",
    "        #information = query_pinecone(message)        \n",
    "        information = query_pinecone(message, top_k=7)\n",
    "        print(information)\n",
    "\n",
    "        full_prompt = f\"\"\"\n",
    "        Your role:\n",
    "        You are a chatbot that answers questions about the General Handbook of the Church of Jesus Christ of Latter Day Saints.\n",
    "\n",
    "        Intructions:\n",
    "        Below is a list of information received from a vector database where you might find information to answer the user's question about the General Handbook.\n",
    "        Each chunk of information contains a title, url, and content. You will mainly answer questions from the content, but feel free to share that extra information as reference.\n",
    "\n",
    "        Information:\n",
    "        START OF INFORMATION\n",
    "\n",
    "        {information}\n",
    "\n",
    "        END OF INFORMATION\n",
    "\n",
    "        (Further instructions: If the user seems to be asking about something not related to the General Handbook, invite them to ask about it. If instead of a questions they seem to be thanking you for previous answers, show that you welcome their gratitude.)\n",
    "        User Input:\n",
    "        {message}\n",
    "        \"\"\"\n",
    "\n",
    "\n",
    "        formatted_prompt = format_chat_prompt(full_prompt, chat_history)\n",
    "        bot_message = text_generator.generate_content(formatted_prompt).text\n",
    "        chat_history.append((message, bot_message))\n",
    "        return \"\", chat_history\n",
    "\n",
    "with gr.Blocks() as demo:\n",
    "    chatbot = gr.Chatbot(height=480) #just to fit the notebook\n",
    "    msg = gr.Textbox(label=\"Question\")\n",
    "    btn = gr.Button(\"Submit\")\n",
    "    clear = gr.ClearButton(components=[msg, chatbot], value=\"Clear console\")\n",
    "\n",
    "    btn.click(respond, inputs=[msg, chatbot], outputs=[msg, chatbot])\n",
    "    msg.submit(respond, inputs=[msg, chatbot], outputs=[msg, chatbot]) #Press enter to submit\n",
    "\n",
    "gr.close_all()\n",
    "demo.launch(share=True)"
   ]
  },
  {
   "cell_type": "code",
   "execution_count": null,
   "metadata": {},
   "outputs": [],
   "source": []
  }
 ],
 "metadata": {
  "kernelspec": {
   "display_name": ".venv",
   "language": "python",
   "name": "python3"
  },
  "language_info": {
   "codemirror_mode": {
    "name": "ipython",
    "version": 3
   },
   "file_extension": ".py",
   "mimetype": "text/x-python",
   "name": "python",
   "nbconvert_exporter": "python",
   "pygments_lexer": "ipython3",
   "version": "3.10.12"
  }
 },
 "nbformat": 4,
 "nbformat_minor": 2
}
